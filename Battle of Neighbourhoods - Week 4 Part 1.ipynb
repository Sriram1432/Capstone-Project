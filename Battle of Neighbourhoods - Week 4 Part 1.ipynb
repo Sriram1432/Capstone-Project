{
 "cells": [
  {
   "cell_type": "markdown",
   "metadata": {},
   "source": [
    "# Capstone Project — The Battle of Neighbourhoods - Week 1"
   ]
  },
  {
   "cell_type": "markdown",
   "metadata": {},
   "source": [
    "# Introduction - Business Problem\n",
    "India is one of the most tourist visited countries in the world for its monuments, culture, traditions and the list could go on and on. There is lot of tourist market in india and New delhi is one of the most visited places for lot of tourists to catch the glimpse of Taj mahal, Red fort etc.,\n",
    "\n",
    "New Delhi is the capital city of India. It is a part of the city of Delhi’s 11 districts. The city itself has a population of 257,803. However, the much larger metro area has a population that exceeds 26 million.\n",
    "New Delhi are used interchangeably to refer to the National Capital Territory of Delhi (NCT), these are two distinct entities, with New Delhi forming a small part of Delhi. The National Capital Region is a much larger entity comprising the entire NCT along with adjoining districts in neighboring states.\n",
    "\n",
    "The official language of New Delhi and the one that is most widely spoken is Hindi. However, English is also spoken as a formal language within businesses and government agencies. Over last decades it is continuously grow because of the city’s important role in government and commercial business.\n",
    "\n",
    "With it’s diverse culture , comes diverse food items. There are many restaurants in New Delhi City, each belonging to different categories like Chinese , Italian , French etc. The idea of my project is to present the client and stake holders with answers to the follwing questions\n",
    "Which areas have the best restaurants in New Delhi?\n",
    "What is best location in New Delhi City for the famous Biryani ?\n",
    "What is best location in New Delhi City for Chinese Cuisine ?\n",
    "Which areas of all areas have large number of Chinese Resturant Market ?\n",
    "Which area of all areas have less number of resturants ?\n",
    "Which area of all areas have most number of resturants ?\n",
    "Which is the best place to stay if I prefer Chinese Cuisine ?"
   ]
  },
  {
   "cell_type": "code",
   "execution_count": null,
   "metadata": {},
   "outputs": [],
   "source": []
  }
 ],
 "metadata": {
  "kernelspec": {
   "display_name": "Python 3",
   "language": "python",
   "name": "python3"
  },
  "language_info": {
   "codemirror_mode": {
    "name": "ipython",
    "version": 3
   },
   "file_extension": ".py",
   "mimetype": "text/x-python",
   "name": "python",
   "nbconvert_exporter": "python",
   "pygments_lexer": "ipython3",
   "version": "3.7.9"
  }
 },
 "nbformat": 4,
 "nbformat_minor": 4
}
